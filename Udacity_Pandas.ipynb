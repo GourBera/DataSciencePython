{
 "cells": [
  {
   "cell_type": "code",
   "execution_count": 1,
   "metadata": {},
   "outputs": [
    {
     "name": "stdout",
     "output_type": "stream",
     "text": [
      "    bronze    country_name  gold  silver\n",
      "0        9    Russian Fed.    13      11\n",
      "1       10          Norway    11       5\n",
      "2        5          Canada    10      10\n",
      "3       12   United States     9       7\n",
      "4        9     Netherlands     8       7\n",
      "5        5         Germany     8       6\n",
      "6        2     Switzerland     6       3\n",
      "7        1         Belarus     5       0\n",
      "8        5         Austria     4       8\n",
      "9        7          France     4       4\n",
      "10       1          Poland     4       1\n",
      "11       2           China     3       4\n",
      "12       2           Korea     3       3\n",
      "13       6          Sweden     2       7\n",
      "14       2  Czech Republic     2       4\n",
      "15       4        Slovenia     2       2\n",
      "16       3           Japan     1       4\n",
      "17       1         Finland     1       3\n",
      "18       2   Great Britain     1       1\n",
      "19       1         Ukraine     1       0\n",
      "20       0        Slovakia     1       0\n",
      "21       6           Italy     0       2\n",
      "22       2          Latvia     0       2\n",
      "23       1       Australia     0       2\n",
      "24       0         Croatia     0       1\n",
      "25       1      Kazakhstan     0       0\n"
     ]
    }
   ],
   "source": [
    "import numpy\n",
    "from pandas import DataFrame, Series\n",
    "\n",
    "\n",
    "def avg_medal_count():\n",
    "    '''\n",
    "    Using the dataframe's apply method, create a new Series called \n",
    "    avg_medal_count that indicates the average number of gold, silver,\n",
    "    and bronze medals earned amongst countries who earned at \n",
    "    least one medal of any kind at the 2014 Sochi olympics.  Note that\n",
    "    the countries list already only includes countries that have earned\n",
    "    at least one medal. No additional filtering is necessary.\n",
    "    \n",
    "    You do not need to call the function in your code when running it in the\n",
    "    browser - the grader will do that automatically when you submit or test it.\n",
    "    '''\n",
    "\n",
    "    countries = ['Russian Fed.', 'Norway', 'Canada', 'United States',\n",
    "                 'Netherlands', 'Germany', 'Switzerland', 'Belarus',\n",
    "                 'Austria', 'France', 'Poland', 'China', 'Korea', \n",
    "                 'Sweden', 'Czech Republic', 'Slovenia', 'Japan',\n",
    "                 'Finland', 'Great Britain', 'Ukraine', 'Slovakia',\n",
    "                 'Italy', 'Latvia', 'Australia', 'Croatia', 'Kazakhstan']\n",
    "\n",
    "    gold = [13, 11, 10, 9, 8, 8, 6, 5, 4, 4, 4, 3, 3, 2, 2, 2, 1, 1, 1, 1, 1, 0, 0, 0, 0, 0]\n",
    "    silver = [11, 5, 10, 7, 7, 6, 3, 0, 8, 4, 1, 4, 3, 7, 4, 2, 4, 3, 1, 0, 0, 2, 2, 2, 1, 0]\n",
    "    bronze = [9, 10, 5, 12, 9, 5, 2, 1, 5, 7, 1, 2, 2, 6, 2, 4, 3, 1, 2, 1, 0, 6, 2, 1, 0, 1]\n",
    "    \n",
    "    olympic_medal_counts = {'country_name':countries,\n",
    "                            'gold': Series(gold),\n",
    "                            'silver': Series(silver),\n",
    "                            'bronze': Series(bronze)}    \n",
    "    df = DataFrame(olympic_medal_counts)\n",
    "    \n",
    "    # YOUR CODE HERE\n",
    "    \n",
    "    return df\n",
    "print(avg_medal_count())"
   ]
  },
  {
   "cell_type": "code",
   "execution_count": 2,
   "metadata": {},
   "outputs": [
    {
     "name": "stdout",
     "output_type": "stream",
     "text": [
      "    bronze    country_name  gold  silver\n",
      "0        9    Russian Fed.    13      11\n",
      "1       10          Norway    11       5\n",
      "2        5          Canada    10      10\n",
      "3       12   United States     9       7\n",
      "4        9     Netherlands     8       7\n",
      "5        5         Germany     8       6\n",
      "6        2     Switzerland     6       3\n",
      "7        1         Belarus     5       0\n",
      "8        5         Austria     4       8\n",
      "9        7          France     4       4\n",
      "10       1          Poland     4       1\n",
      "11       2           China     3       4\n",
      "12       2           Korea     3       3\n",
      "13       6          Sweden     2       7\n",
      "14       2  Czech Republic     2       4\n",
      "15       4        Slovenia     2       2\n",
      "16       3           Japan     1       4\n",
      "17       1         Finland     1       3\n",
      "18       2   Great Britain     1       1\n",
      "19       1         Ukraine     1       0\n",
      "20       0        Slovakia     1       0\n",
      "21       6           Italy     0       2\n",
      "22       2          Latvia     0       2\n",
      "23       1       Australia     0       2\n",
      "24       0         Croatia     0       1\n",
      "25       1      Kazakhstan     0       0\n"
     ]
    }
   ],
   "source": [
    "data = avg_medal_count()\n",
    "print(data)"
   ]
  },
  {
   "cell_type": "code",
   "execution_count": 3,
   "metadata": {},
   "outputs": [
    {
     "name": "stdout",
     "output_type": "stream",
     "text": [
      "    bronze    country_name  gold  silver\n",
      "0        9    Russian Fed.    13      11\n",
      "1       10          Norway    11       5\n",
      "2        5          Canada    10      10\n",
      "3       12   United States     9       7\n",
      "4        9     Netherlands     8       7\n",
      "5        5         Germany     8       6\n",
      "6        2     Switzerland     6       3\n",
      "7        1         Belarus     5       0\n",
      "8        5         Austria     4       8\n",
      "9        7          France     4       4\n",
      "10       1          Poland     4       1\n",
      "11       2           China     3       4\n",
      "12       2           Korea     3       3\n",
      "13       6          Sweden     2       7\n",
      "14       2  Czech Republic     2       4\n",
      "15       4        Slovenia     2       2\n",
      "16       3           Japan     1       4\n",
      "17       1         Finland     1       3\n",
      "18       2   Great Britain     1       1\n",
      "19       1         Ukraine     1       0\n",
      "20       0        Slovakia     1       0\n",
      "21       6           Italy     0       2\n",
      "22       2          Latvia     0       2\n",
      "23       1       Australia     0       2\n",
      "24       0         Croatia     0       1\n",
      "25       1      Kazakhstan     0       0\n"
     ]
    }
   ],
   "source": [
    "countries = ['Russian Fed.', 'Norway', 'Canada', 'United States',\n",
    "                 'Netherlands', 'Germany', 'Switzerland', 'Belarus',\n",
    "                 'Austria', 'France', 'Poland', 'China', 'Korea', \n",
    "                 'Sweden', 'Czech Republic', 'Slovenia', 'Japan',\n",
    "                 'Finland', 'Great Britain', 'Ukraine', 'Slovakia',\n",
    "                 'Italy', 'Latvia', 'Australia', 'Croatia', 'Kazakhstan']\n",
    "\n",
    "gold = [13, 11, 10, 9, 8, 8, 6, 5, 4, 4, 4, 3, 3, 2, 2, 2, 1, 1, 1, 1, 1, 0, 0, 0, 0, 0]\n",
    "silver = [11, 5, 10, 7, 7, 6, 3, 0, 8, 4, 1, 4, 3, 7, 4, 2, 4, 3, 1, 0, 0, 2, 2, 2, 1, 0]\n",
    "bronze = [9, 10, 5, 12, 9, 5, 2, 1, 5, 7, 1, 2, 2, 6, 2, 4, 3, 1, 2, 1, 0, 6, 2, 1, 0, 1]\n",
    "    \n",
    "olympic_medal_counts = {'country_name':countries,\n",
    "                            'gold': Series(gold),\n",
    "                            'silver': Series(silver),\n",
    "                            'bronze': Series(bronze)}    \n",
    "df = DataFrame(olympic_medal_counts)\n",
    "print(df)"
   ]
  }
 ],
 "metadata": {
  "kernelspec": {
   "display_name": "Python 3",
   "language": "python",
   "name": "python3"
  },
  "language_info": {
   "codemirror_mode": {
    "name": "ipython",
    "version": 3
   },
   "file_extension": ".py",
   "mimetype": "text/x-python",
   "name": "python",
   "nbconvert_exporter": "python",
   "pygments_lexer": "ipython3",
   "version": "3.6.4"
  }
 },
 "nbformat": 4,
 "nbformat_minor": 2
}
