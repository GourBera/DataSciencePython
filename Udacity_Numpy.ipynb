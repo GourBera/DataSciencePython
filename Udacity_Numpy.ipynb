{
 "cells": [
  {
   "cell_type": "code",
   "execution_count": 1,
   "metadata": {},
   "outputs": [
    {
     "name": "stdout",
     "output_type": "stream",
     "text": [
      "0.008817672729492188\n"
     ]
    }
   ],
   "source": [
    "import numpy as np\n",
    "import time\n",
    "\n",
    "x = np.random.random(100000)\n",
    "#print(x)\n",
    "\n",
    "start = time.time()\n",
    "sum(x) / len(x)\n",
    "print(time.time() - start)"
   ]
  },
  {
   "cell_type": "code",
   "execution_count": 2,
   "metadata": {},
   "outputs": [
    {
     "name": "stdout",
     "output_type": "stream",
     "text": [
      "0.00022864341735839844\n"
     ]
    }
   ],
   "source": [
    "import numpy as np\n",
    "import time\n",
    "\n",
    "x = np.random.random(100000)\n",
    "#print(x)\n",
    "\n",
    "start = time.time()\n",
    "np.mean(x)\n",
    "print(time.time() - start)"
   ]
  },
  {
   "cell_type": "code",
   "execution_count": 3,
   "metadata": {},
   "outputs": [
    {
     "name": "stdout",
     "output_type": "stream",
     "text": [
      "[1. 4. 5. 8.]\n"
     ]
    }
   ],
   "source": [
    "import numpy as np\n",
    "\n",
    "array = np.array([1, 4, 5, 8], float)\n",
    "print(array)"
   ]
  },
  {
   "cell_type": "code",
   "execution_count": 4,
   "metadata": {},
   "outputs": [
    {
     "name": "stdout",
     "output_type": "stream",
     "text": [
      "[1. 4. 5. 8.]\n",
      "\n",
      "[[1. 2. 3.]\n",
      " [4. 5. 6.]]\n"
     ]
    }
   ],
   "source": [
    "if True:\n",
    "    array = np.array([1, 4, 5, 8], float)\n",
    "    print(array)\n",
    "    print(\"\")\n",
    "    array = np.array([[1, 2, 3], [4, 5, 6]], float)  # a 2D array/Matrix\n",
    "    print(array)"
   ]
  },
  {
   "cell_type": "code",
   "execution_count": 5,
   "metadata": {},
   "outputs": [
    {
     "name": "stdout",
     "output_type": "stream",
     "text": [
      "[1. 4. 5. 8.]\n",
      "\n",
      "4.0\n",
      "\n",
      "[1. 4.]\n",
      "\n",
      "5.0\n"
     ]
    }
   ],
   "source": [
    "if True:\n",
    "    array = np.array([1, 4, 5, 8], float)\n",
    "    print(array)\n",
    "    print(\"\")\n",
    "    print(array[1])\n",
    "    print(\"\")\n",
    "    print(array[:2])\n",
    "    print(\"\")\n",
    "    array[1] = 5.0\n",
    "    print(array[1])"
   ]
  },
  {
   "cell_type": "code",
   "execution_count": 6,
   "metadata": {},
   "outputs": [
    {
     "name": "stdout",
     "output_type": "stream",
     "text": [
      "[[1. 2. 3.]\n",
      " [4. 5. 6.]]\n",
      "\n",
      "5.0\n",
      "\n",
      "[4. 5. 6.]\n",
      "\n",
      "[3. 6.]\n"
     ]
    }
   ],
   "source": [
    "if True:\n",
    "    two_D_array = np.array([[1, 2, 3], [4, 5, 6]], float)\n",
    "    print(two_D_array)\n",
    "    print(\"\")\n",
    "    print(two_D_array[1][1])\n",
    "    print(\"\")\n",
    "    print(two_D_array[1, :])\n",
    "    print(\"\")\n",
    "    print(two_D_array[:, 2])"
   ]
  },
  {
   "cell_type": "code",
   "execution_count": 7,
   "metadata": {},
   "outputs": [
    {
     "name": "stdout",
     "output_type": "stream",
     "text": [
      "[6. 4. 9.]\n",
      "\n",
      "[-4.  0. -3.]\n",
      "\n",
      "[ 5.  4. 18.]\n"
     ]
    }
   ],
   "source": [
    "if True:\n",
    "    array_1 = np.array([1, 2, 3], float)\n",
    "    array_2 = np.array([5, 2, 6], float)\n",
    "    print(array_1 + array_2)\n",
    "    print(\"\")\n",
    "    print(array_1 - array_2)\n",
    "    print(\"\")\n",
    "    print(array_1 * array_2)"
   ]
  },
  {
   "cell_type": "code",
   "execution_count": 8,
   "metadata": {},
   "outputs": [
    {
     "name": "stdout",
     "output_type": "stream",
     "text": [
      "[[ 6.  8.]\n",
      " [10. 12.]]\n",
      "\n",
      "[[-4. -4.]\n",
      " [-4. -4.]]\n",
      "\n",
      "[[ 5. 12.]\n",
      " [21. 32.]]\n"
     ]
    }
   ],
   "source": [
    "if True:\n",
    "    array_1 = np.array([[1, 2], [3, 4]], float)\n",
    "    array_2 = np.array([[5, 6], [7, 8]], float)\n",
    "    print(array_1 + array_2)\n",
    "    print(\"\")\n",
    "    print(array_1 - array_2)\n",
    "    print(\"\")\n",
    "    print(array_1 * array_2)"
   ]
  },
  {
   "cell_type": "code",
   "execution_count": 9,
   "metadata": {},
   "outputs": [
    {
     "name": "stdout",
     "output_type": "stream",
     "text": [
      "2.0\n",
      "7.0\n",
      "\n",
      "[44.]\n"
     ]
    }
   ],
   "source": [
    "'''\n",
    "In addition to the standard arthimetic operations, Numpy also has a range of\n",
    "other mathematical operations that you can apply to Numpy arrays, such as\n",
    "mean and dot product.\n",
    "\n",
    "Both of these functions will be useful in later programming quizzes.\n",
    "'''\n",
    "\n",
    "if True:\n",
    "    array_1 = np.array([1, 2, 3], float)\n",
    "    array_2 = np.array([[6], [7], [8]], float)\n",
    "    print(np.mean(array_1))\n",
    "    print(np.mean(array_2))\n",
    "    print(\"\")\n",
    "    print(np.dot(array_1, array_2))"
   ]
  },
  {
   "cell_type": "code",
   "execution_count": null,
   "metadata": {},
   "outputs": [],
   "source": []
  },
  {
   "cell_type": "code",
   "execution_count": null,
   "metadata": {},
   "outputs": [],
   "source": []
  }
 ],
 "metadata": {
  "kernelspec": {
   "display_name": "Python 3",
   "language": "python",
   "name": "python3"
  },
  "language_info": {
   "codemirror_mode": {
    "name": "ipython",
    "version": 3
   },
   "file_extension": ".py",
   "mimetype": "text/x-python",
   "name": "python",
   "nbconvert_exporter": "python",
   "pygments_lexer": "ipython3",
   "version": "3.6.4"
  }
 },
 "nbformat": 4,
 "nbformat_minor": 2
}
