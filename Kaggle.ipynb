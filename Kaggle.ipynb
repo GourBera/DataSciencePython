{
 "cells": [
  {
   "cell_type": "code",
   "execution_count": 10,
   "metadata": {},
   "outputs": [
    {
     "name": "stdout",
     "output_type": "stream",
     "text": [
      "[[ 3.          2.         22.          1.          0.          7.25      ]\n",
      " [ 1.          1.         38.          1.          0.         71.2833    ]\n",
      " [ 3.          1.         26.          0.          0.          7.925     ]\n",
      " ...\n",
      " [ 3.          1.         29.69911765  1.          2.         23.45      ]\n",
      " [ 1.          2.         26.          0.          0.         30.        ]\n",
      " [ 3.          2.         32.          0.          0.          7.75      ]]\n"
     ]
    },
    {
     "ename": "ModuleNotFoundError",
     "evalue": "No module named 'sklearn'",
     "output_type": "error",
     "traceback": [
      "\u001b[1;31m---------------------------------------------------------------------------\u001b[0m",
      "\u001b[1;31mModuleNotFoundError\u001b[0m                       Traceback (most recent call last)",
      "\u001b[1;32m<ipython-input-10-c03a6e7988d6>\u001b[0m in \u001b[0;36m<module>\u001b[1;34m()\u001b[0m\n\u001b[0;32m     25\u001b[0m \u001b[1;33m\u001b[0m\u001b[0m\n\u001b[0;32m     26\u001b[0m \u001b[1;31m# Divide data into 60% training data and 40% test data, using a stratified split\u001b[0m\u001b[1;33m\u001b[0m\u001b[1;33m\u001b[0m\u001b[0m\n\u001b[1;32m---> 27\u001b[1;33m \u001b[1;32mfrom\u001b[0m \u001b[0msklearn\u001b[0m\u001b[1;33m.\u001b[0m\u001b[0mmodel_selection\u001b[0m \u001b[1;32mimport\u001b[0m \u001b[0mStratifiedShuffleSplit\u001b[0m\u001b[1;33m\u001b[0m\u001b[0m\n\u001b[0m\u001b[0;32m     28\u001b[0m \u001b[1;33m\u001b[0m\u001b[0m\n\u001b[0;32m     29\u001b[0m \u001b[0msss\u001b[0m \u001b[1;33m=\u001b[0m \u001b[0mStratifiedShuffleSplit\u001b[0m\u001b[1;33m(\u001b[0m\u001b[0mn_splits\u001b[0m\u001b[1;33m=\u001b[0m\u001b[1;36m1\u001b[0m\u001b[1;33m,\u001b[0m \u001b[0mtest_size\u001b[0m\u001b[1;33m=\u001b[0m\u001b[1;36m0.4\u001b[0m\u001b[1;33m,\u001b[0m \u001b[0mrandom_state\u001b[0m\u001b[1;33m=\u001b[0m\u001b[1;36m0\u001b[0m\u001b[1;33m)\u001b[0m\u001b[1;33m\u001b[0m\u001b[0m\n",
      "\u001b[1;31mModuleNotFoundError\u001b[0m: No module named 'sklearn'"
     ]
    }
   ],
   "source": [
    "import pandas as pd\n",
    "import numpy as np\n",
    "import scipy.io\n",
    "\n",
    "# Load data from csv\n",
    "#data = pd.read_csv('train.csv')\n",
    "data = pd.read_csv('./DataSource/titanic-data.csv')\n",
    "y = data['Survived']\n",
    "\n",
    "# Drop features from training data that probably(?) has no predictive power\n",
    "X = data.drop(['Name', 'Survived', 'PassengerId','Ticket', 'Embarked', 'Cabin'], axis=1)\n",
    "\n",
    "# Change sex to some numerical values\n",
    "mapping = {'female': 1, 'male': 2}\n",
    "X = X.replace({'Sex': mapping})\n",
    "\n",
    "# Replace NaNs with mean value of their respective column.\n",
    "X = X.fillna(X.mean())\n",
    "#print(X)\n",
    "\n",
    "X = np.array(X)\n",
    "y = np.array(y)\n",
    "\n",
    "print(X)\n",
    "\n",
    "# Divide data into 60% training data and 40% test data, using a stratified split\n",
    "from sklearn.model_selection import StratifiedShuffleSplit\n",
    "\n",
    "sss = StratifiedShuffleSplit(n_splits=1, test_size=0.4, random_state=0)\n",
    "for train_index, test_index in sss.split(X, y):\n",
    "   X_train, X_test = X[train_index], X[test_index]\n",
    "   y_train, y_test = y[train_index], y[test_index]\n",
    "\n",
    "\n",
    "# That was the data pre-processing part. From here on it's easy to test some models...\n",
    "# For example, we can try a neural network with 3 hiddens layers:\n",
    "\n",
    "from sklearn.neural_network import MLPClassifier\n",
    "from sklearn.metrics import accuracy_score\n",
    "\n",
    "clf = MLPClassifier(solver='lbfgs', alpha=0.1, hidden_layer_sizes=(10,20,10))\n",
    "\n",
    "# Train network\n",
    "clf.fit(X_train, y_train)\n",
    "\n",
    "# Estimate accuracy of model\n",
    "print(\"Train set accuracy in first naive attempt:\", accuracy_score(y_train, clf.predict(X_train), normalize=True))\n",
    "print(\"Test set accuracy in first naive attempt:\", accuracy_score(y_test, clf.predict(X_test), normalize=True))\n",
    "\n",
    "\n"
   ]
  },
  {
   "cell_type": "code",
   "execution_count": null,
   "metadata": {},
   "outputs": [],
   "source": []
  }
 ],
 "metadata": {
  "kernelspec": {
   "display_name": "Python 3",
   "language": "python",
   "name": "python3"
  },
  "language_info": {
   "codemirror_mode": {
    "name": "ipython",
    "version": 3
   },
   "file_extension": ".py",
   "mimetype": "text/x-python",
   "name": "python",
   "nbconvert_exporter": "python",
   "pygments_lexer": "ipython3",
   "version": "3.7.0a3"
  }
 },
 "nbformat": 4,
 "nbformat_minor": 2
}
